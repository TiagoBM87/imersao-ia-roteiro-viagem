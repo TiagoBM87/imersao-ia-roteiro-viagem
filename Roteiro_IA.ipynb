{
  "nbformat": 4,
  "nbformat_minor": 0,
  "metadata": {
    "colab": {
      "provenance": [],
      "authorship_tag": "ABX9TyMGuBtUd4IGIGhsSbpCTZe+",
      "include_colab_link": true
    },
    "kernelspec": {
      "name": "python3",
      "display_name": "Python 3"
    },
    "language_info": {
      "name": "python"
    }
  },
  "cells": [
    {
      "cell_type": "markdown",
      "metadata": {
        "id": "view-in-github",
        "colab_type": "text"
      },
      "source": [
        "<a href=\"https://colab.research.google.com/github/TiagoBM87/imersao-ia-roteiro-viagem/blob/main/Roteiro_IA.ipynb\" target=\"_parent\"><img src=\"https://colab.research.google.com/assets/colab-badge.svg\" alt=\"Open In Colab\"/></a>"
      ]
    },
    {
      "cell_type": "markdown",
      "source": [
        "Instalar o SDK do Google"
      ],
      "metadata": {
        "id": "56gf45xLDUal"
      }
    },
    {
      "cell_type": "code",
      "execution_count": 13,
      "metadata": {
        "id": "J6Pd9SFJ1yVi"
      },
      "outputs": [],
      "source": [
        "!pip install -q -U google-generativeai"
      ]
    },
    {
      "cell_type": "code",
      "execution_count": 14,
      "metadata": {
        "id": "HTiaTu6O1LRC"
      },
      "outputs": [],
      "source": [
        "# Import the Python SDK\n",
        "import google.generativeai as genai\n",
        "from google.colab import userdata\n",
        "\n",
        "api_key = userdata.get(\"SECRET_KEY\")\n",
        "genai.configure(api_key=api_key)"
      ]
    },
    {
      "cell_type": "markdown",
      "source": [
        "Listar os modelos disponíveis"
      ],
      "metadata": {
        "id": "QygG_jRRDwwo"
      }
    },
    {
      "cell_type": "code",
      "source": [
        "# Set up the model\n",
        "generation_config = {\n",
        "  \"temperature\": 0.5,\n",
        "  \"top_p\": 0.95,\n",
        "  \"top_k\": 0\n",
        "}"
      ],
      "metadata": {
        "id": "tooWDUHoFzmp"
      },
      "execution_count": 15,
      "outputs": []
    },
    {
      "cell_type": "code",
      "source": [],
      "metadata": {
        "id": "2n5A-kTmlo2P"
      },
      "execution_count": null,
      "outputs": []
    },
    {
      "cell_type": "code",
      "source": [
        "safety_settings = [\n",
        "  {\n",
        "    \"category\": \"HARM_CATEGORY_HARASSMENT\",\n",
        "    \"threshold\": \"BLOCK_MEDIUM_AND_ABOVE\"\n",
        "  },\n",
        "  {\n",
        "    \"category\": \"HARM_CATEGORY_HATE_SPEECH\",\n",
        "    \"threshold\": \"BLOCK_MEDIUM_AND_ABOVE\"\n",
        "  },\n",
        "  {\n",
        "    \"category\": \"HARM_CATEGORY_SEXUALLY_EXPLICIT\",\n",
        "    \"threshold\": \"BLOCK_MEDIUM_AND_ABOVE\"\n",
        "  },\n",
        "  {\n",
        "    \"category\": \"HARM_CATEGORY_DANGEROUS_CONTENT\",\n",
        "    \"threshold\": \"BLOCK_MEDIUM_AND_ABOVE\"\n",
        "  },\n",
        "]\n"
      ],
      "metadata": {
        "id": "tSZIVAUOGU6J"
      },
      "execution_count": 16,
      "outputs": []
    },
    {
      "cell_type": "markdown",
      "source": [
        "Incializando o modelo"
      ],
      "metadata": {
        "id": "XHtJEUwPcmVS"
      }
    },
    {
      "cell_type": "code",
      "source": [
        "model = genai.GenerativeModel(model_name=\"gemini-1.0-pro\",\n",
        "                              generation_config=generation_config,\n",
        "                              safety_settings=safety_settings)"
      ],
      "metadata": {
        "id": "Vlw90wcLcp_S"
      },
      "execution_count": 17,
      "outputs": []
    },
    {
      "cell_type": "code",
      "source": [
        "print(\"Olá te darei uma diga de roteiro para aproveitar sua viagem...\")\n",
        "city = input(\"Diga a Cidade que irá visitar: \")\n",
        "\n",
        "chatCity = model.start_chat(history=[\n",
        "  {\n",
        "    \"role\": \"user\",\n",
        "    \"parts\": [f\"\", city, \" é uma cidade?\"]\n",
        "  },\n",
        "  {\n",
        "    \"role\": \"model\",\n",
        "    \"parts\": [\"False\", \"True\"]\n",
        "  },\n",
        "])\n",
        "isCity = chatCity.send_message(\"Cidade_Válida\")\n",
        "\n",
        "if isCity.text == \"False\":\n",
        "  print(f\"{city} Não é uma cidade válida!!!\")\n",
        "else:\n",
        "  numberDays = input(\"Quantos dias: \")\n",
        "  response = model.start_chat(history=[\n",
        "      {\n",
        "          \"role\": \"user\",\n",
        "          \"parts\": [f\"Sugestão de roteiro em formato json de {numberDays} dia(s) na cidade {city}, mostre os períodos listando manhã, tarde e noite;\",\n",
        "                    \"Mostra os dias na lista de dias;\",\n",
        "                    \"Mostre uma descrição sobre a cidade e tipo de atividas turísticas que se destacam;\",\n",
        "                    \"Dentro de cada período faça uma lista de atividades sendo elas divididas entre passeios e refeições, enumerar de forma sequêncial;\",\n",
        "                    \"Tente incluir mais de uma passei baseado na estimativa de tempo de cada atividade;\",\n",
        "                    \"Conter nas atividades passeio e refeição os campos: nome, descrição, telefone, site, instagram, estimativa de custo, estimativa de tempo de visita e distância e tempo para a próxima atividade, em um formato nome do campo e valor para todos os campos informados inclusive o nome;\",\n",
        "                    \"As dicas devem ser de valor econômico;\",\n",
        "                    \"Dicas de passeios em todos períodos, se for possível mais de um passei por período, basear na estimativa de tempo;\",\n",
        "                    \"Períodos em formato de lista;\",\n",
        "          ]\n",
        "      },\n",
        "      {\n",
        "          \"role\": \"model\",\n",
        "          \"parts\": [\"\"]\n",
        "      }\n",
        "  ])\n",
        "  response.send_message(f\"ROTEIRO_{city}\")\n",
        "  print(response.last.text)\n"
      ],
      "metadata": {
        "colab": {
          "base_uri": "https://localhost:8080/",
          "height": 1000
        },
        "id": "_s691JdsHmzP",
        "outputId": "cb29b6f9-d09f-4ba0-f628-d1a886654d43"
      },
      "execution_count": 20,
      "outputs": [
        {
          "output_type": "stream",
          "name": "stdout",
          "text": [
            "Olá te darei uma diga de roteiro para aproveitar sua viagem...\n",
            "Diga a Cidade que irá visitar: Bauru\n",
            "Quantos dias: 2\n",
            "```json\n",
            "{\n",
            "  \"cidade\": \"Bauru\",\n",
            "  \"descricao\": \"Cidade do interior paulista conhecida por sua produção agropecuária e pela diversidade cultural. Destacam-se as atividades turísticas relacionadas à história, arquitetura e natureza.\",\n",
            "  \"atividades_turisticas\": [\n",
            "    \"Visitar o Museu Ferroviário\",\n",
            "    \"Conhecer a Catedral do Divino Espírito Santo\",\n",
            "    \"Passear pelo Jardim Botânico\",\n",
            "    \"Visitar o Parque Vitória Régia\",\n",
            "    \"Fazer compras no Boulevard Shopping Bauru\"\n",
            "  ],\n",
            "  \"dias\": [\n",
            "    {\n",
            "      \"manha\": [\n",
            "        {\n",
            "          \"nome\": \"Museu Ferroviário\",\n",
            "          \"descricao\": \"Museu que conta a história da ferrovia em Bauru, com exposição de locomotivas e vagões antigos.\",\n",
            "          \"telefone\": \"(14) 3235-1199\",\n",
            "          \"site\": \"http://www.museuferroviariobauru.com.br/\",\n",
            "          \"instagram\": \"@museuferroviariobauru\",\n",
            "          \"custo_estimado\": \"R$ 5,00\",\n",
            "          \"tempo_estimado\": \"1 hora\",\n",
            "          \"distancia_proxima_atividade\": \"500 metros\",\n",
            "          \"tempo_proxima_atividade\": \"5 minutos\"\n",
            "        },\n",
            "        {\n",
            "          \"nome\": \"Catedral do Divino Espírito Santo\",\n",
            "          \"descricao\": \"Catedral em estilo neogótico, com vitrais coloridos e um imponente órgão.\",\n",
            "          \"telefone\": \"(14) 3234-3133\",\n",
            "          \"site\": \"http://www.catedralbauru.com.br/\",\n",
            "          \"instagram\": \"@catedralbauru\",\n",
            "          \"custo_estimado\": \"Gratuito\",\n",
            "          \"tempo_estimado\": \"30 minutos\",\n",
            "          \"distancia_proxima_atividade\": \"200 metros\",\n",
            "          \"tempo_proxima_atividade\": \"2 minutos\"\n",
            "        }\n",
            "      ],\n",
            "      \"tarde\": [\n",
            "        {\n",
            "          \"nome\": \"Jardim Botânico\",\n",
            "          \"descricao\": \"Jardim botânico com diversas espécies de plantas, incluindo um orquidário e um jardim japonês.\",\n",
            "          \"telefone\": \"(14) 3235-1199\",\n",
            "          \"site\": \"http://www.jardimbotanico.bauru.sp.gov.br/\",\n",
            "          \"instagram\": \"@jardimbotanico.bauru\",\n",
            "          \"custo_estimado\": \"Gratuito\",\n",
            "          \"tempo_estimado\": \"1 hora\",\n",
            "          \"distancia_proxima_atividade\": \"2 km\",\n",
            "          \"tempo_proxima_atividade\": \"10 minutos\"\n",
            "        },\n",
            "        {\n",
            "          \"nome\": \"Parque Vitória Régia\",\n",
            "          \"descricao\": \"Parque com um grande lago onde é possível observar vitórias-régias, além de áreas de lazer e trilhas.\",\n",
            "          \"telefone\": \"(14) 3235-1199\",\n",
            "          \"site\": \"http://www.parquevitoriare gia.bauru.sp.gov.br/\",\n",
            "          \"instagram\": \"@parquevitoriare gia.bauru\",\n",
            "          \"custo_estimado\": \"Gratuito\",\n",
            "          \"tempo_estimado\": \"1 hora\",\n",
            "          \"distancia_proxima_atividade\": \"1 km\",\n",
            "          \"tempo_proxima_atividade\": \"5 minutos\"\n",
            "        }\n",
            "      ],\n",
            "      \"noite\": [\n",
            "        {\n",
            "          \"nome\": \"Boulevard Shopping Bauru\",\n",
            "          \"descricao\": \"Shopping center com diversas lojas, restaurantes e opções de lazer, como cinema e boliche.\",\n",
            "          \"telefone\": \"(14) 3235-1199\",\n",
            "          \"site\": \"http://www.boulevardshoppingbauru.com.br/\",\n",
            "          \"instagram\": \"@boulevardshoppingbauru\",\n",
            "          \"custo_estimado\": \"Variável\",\n",
            "          \"tempo_estimado\": \"2 horas\",\n",
            "          \"distancia_proxima_atividade\": \"1 km\",\n",
            "          \"tempo_proxima_atividade\": \"5 minutos\"\n",
            "        }\n",
            "      ]\n",
            "    },\n",
            "    {\n",
            "      \"manha\": [\n",
            "        {\n",
            "          \"nome\": \"Museu Histórico Municipal\",\n",
            "          \"descricao\": \"Museu que conta a história de Bauru, com exposição de objetos e documentos históricos.\",\n",
            "          \"telefone\": \"(14) 3235-1199\",\n",
            "          \"site\": \"http://www.museuhistorico municipal.bauru.sp.gov.br/\",\n",
            "          \"instagram\": \"@museuhistorico municipal.bauru\",\n",
            "          \"custo_estimado\": \"R$ 5,00\",\n",
            "          \"tempo_estimado\": \"1 hora\",\n",
            "          \"distancia_proxima_atividade\": \"500 metros\",\n",
            "          \"tempo_proxima_atividade\": \"5 minutos\"\n",
            "        },\n",
            "        {\n",
            "          \"nome\": \"Estação Ferroviária de Bauru\",\n",
            "          \"descricao\": \"Estação ferroviária histórica, que foi importante para o desenvolvimento da cidade.\",\n",
            "          \"telefone\": \"(14) 3235-1199\",\n",
            "          \"site\": \"http://www.estacaoferroviariadebauru.com.br/\",\n",
            "          \"instagram\": \"@estacaoferroviariadebauru\",\n",
            "          \"custo_estimado\": \"Gratuito\",\n",
            "          \"tempo_estimado\": \"30 minutos\",\n",
            "          \"distancia_proxima_atividade\": \"200 metros\",\n",
            "          \"tempo_proxima_atividade\": \"2 minutos\"\n",
            "        }\n",
            "      ],\n",
            "      \"tarde\": [\n",
            "        {\n",
            "          \"nome\": \"Thermas de Piratininga\",\n",
            "          \"descricao\": \"Parque aquático com piscinas termais, toboáguas e outras atrações.\",\n",
            "          \"telefone\": \"(14) 3235-1199\",\n",
            "          \"site\": \"http://www.thermasdepiratininga.com.br/\",\n",
            "          \"instagram\": \"@thermasdepiratininga\",\n",
            "          \"custo_estimado\": \"R$ 50,00\",\n",
            "          \"tempo_estimado\": \"3 horas\",\n",
            "          \"distancia_proxima_atividade\": \"15 km\",\n",
            "          \"tempo_proxima_atividade\": \"20 minutos\"\n",
            "        }\n",
            "      ],\n",
            "      \"noite\": [\n",
            "        {\n",
            "          \"nome\": \"Sesc Bauru\",\n",
            "          \"descricao\": \"Centro cultural com programação de shows, exposições e oficinas.\",\n",
            "          \"telefone\": \"(14) 3235-1199\",\n",
            "          \"site\": \"http://www.sescsp.org.br/bauru/\",\n",
            "          \"instagram\": \"@sescbauru\",\n",
            "          \"custo_estimado\": \"Variável\",\n",
            "          \"tempo_estimado\": \"2 horas\",\n",
            "          \"distancia_proxima_atividade\": \"1 km\",\n",
            "          \"tempo_proxima_atividade\": \"5 minutos\"\n",
            "        }\n",
            "      ]\n",
            "    }\n",
            "  ],\n",
            "  \"dicas_economicas\": [\n",
            "    \"Aproveite as atrações gratuitas, como o Jardim Botânico e o Parque Vitória Régia.\",\n",
            "    \"Leve sua própria comida e bebida para os passeios ao ar livre.\",\n",
            "    \"Procure descontos e promoções em sites de compras coletivas.\",\n",
            "    \"Hospede-se em pousadas ou hotéis econômicos.\",\n",
            "    \"Utilize o transporte público ou aplicativos de carona para se locomover.\"\n",
            "  ]\n",
            "}\n",
            "```\n"
          ]
        }
      ]
    }
  ]
}
