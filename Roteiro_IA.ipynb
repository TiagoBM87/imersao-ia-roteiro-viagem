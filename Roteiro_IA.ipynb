{
  "nbformat": 4,
  "nbformat_minor": 0,
  "metadata": {
    "colab": {
      "provenance": [],
      "authorship_tag": "ABX9TyO/XspuxPSRhdT8+6D3NhLJ",
      "include_colab_link": true
    },
    "kernelspec": {
      "name": "python3",
      "display_name": "Python 3"
    },
    "language_info": {
      "name": "python"
    }
  },
  "cells": [
    {
      "cell_type": "markdown",
      "metadata": {
        "id": "view-in-github",
        "colab_type": "text"
      },
      "source": [
        "<a href=\"https://colab.research.google.com/github/TiagoBM87/imersao-ia-roteiro-viagem/blob/main/Roteiro_IA.ipynb\" target=\"_parent\"><img src=\"https://colab.research.google.com/assets/colab-badge.svg\" alt=\"Open In Colab\"/></a>"
      ]
    },
    {
      "cell_type": "markdown",
      "source": [
        "Instalar o SDK do Google"
      ],
      "metadata": {
        "id": "56gf45xLDUal"
      }
    },
    {
      "cell_type": "code",
      "execution_count": 13,
      "metadata": {
        "id": "J6Pd9SFJ1yVi"
      },
      "outputs": [],
      "source": [
        "!pip install -q -U google-generativeai"
      ]
    },
    {
      "cell_type": "code",
      "execution_count": 14,
      "metadata": {
        "id": "HTiaTu6O1LRC"
      },
      "outputs": [],
      "source": [
        "# Import the Python SDK\n",
        "import google.generativeai as genai\n",
        "from google.colab import userdata\n",
        "\n",
        "api_key = userdata.get(\"SECRET_KEY\")\n",
        "genai.configure(api_key=api_key)"
      ]
    },
    {
      "cell_type": "markdown",
      "source": [
        "Listar os modelos disponíveis"
      ],
      "metadata": {
        "id": "QygG_jRRDwwo"
      }
    },
    {
      "cell_type": "code",
      "source": [
        "# Set up the model\n",
        "generation_config = {\n",
        "  \"temperature\": 0.5,\n",
        "  \"top_p\": 0.95,\n",
        "  \"top_k\": 0\n",
        "}"
      ],
      "metadata": {
        "id": "tooWDUHoFzmp"
      },
      "execution_count": 15,
      "outputs": []
    },
    {
      "cell_type": "code",
      "source": [
        "safety_settings = [\n",
        "  {\n",
        "    \"category\": \"HARM_CATEGORY_HARASSMENT\",\n",
        "    \"threshold\": \"BLOCK_MEDIUM_AND_ABOVE\"\n",
        "  },\n",
        "  {\n",
        "    \"category\": \"HARM_CATEGORY_HATE_SPEECH\",\n",
        "    \"threshold\": \"BLOCK_MEDIUM_AND_ABOVE\"\n",
        "  },\n",
        "  {\n",
        "    \"category\": \"HARM_CATEGORY_SEXUALLY_EXPLICIT\",\n",
        "    \"threshold\": \"BLOCK_MEDIUM_AND_ABOVE\"\n",
        "  },\n",
        "  {\n",
        "    \"category\": \"HARM_CATEGORY_DANGEROUS_CONTENT\",\n",
        "    \"threshold\": \"BLOCK_MEDIUM_AND_ABOVE\"\n",
        "  },\n",
        "]\n"
      ],
      "metadata": {
        "id": "tSZIVAUOGU6J"
      },
      "execution_count": 16,
      "outputs": []
    },
    {
      "cell_type": "markdown",
      "source": [
        "Incializando o modelo"
      ],
      "metadata": {
        "id": "XHtJEUwPcmVS"
      }
    },
    {
      "cell_type": "code",
      "source": [
        "model = genai.GenerativeModel(model_name=\"gemini-1.0-pro\",\n",
        "                              generation_config=generation_config,\n",
        "                              safety_settings=safety_settings)"
      ],
      "metadata": {
        "id": "Vlw90wcLcp_S"
      },
      "execution_count": 17,
      "outputs": []
    },
    {
      "cell_type": "code",
      "source": [
        "print(\"Olá te darei uma diga de roteiro para aproveitar sua viagem...\")\n",
        "city = input(\"Diga a Cidade que irá visitar: \")\n",
        "\n",
        "chatCity = model.start_chat(history=[\n",
        "  {\n",
        "    \"role\": \"user\",\n",
        "    \"parts\": [f\"\", city, \" é uma cidade?\"]\n",
        "  },\n",
        "  {\n",
        "    \"role\": \"model\",\n",
        "    \"parts\": [\"False\", \"True\"]\n",
        "  },\n",
        "])\n",
        "isCity = chatCity.send_message(\"Cidade_Válida\")\n",
        "\n",
        "if isCity.text == \"False\":\n",
        "  print(f\"{city} Não é uma cidade válida!!!\")\n",
        "else:\n",
        "  numberDays = input(\"Quantos dias: \")\n",
        "  response = model.start_chat(history=[\n",
        "      {\n",
        "          \"role\": \"user\",\n",
        "          \"parts\": [f\"Sugestão de roteiro em formato json de {numberDays} dia(s) na cidade {city}, mostre os períodos listando manhã, tarde e noite;\",\n",
        "                    \"Mostra os dias na lista de dias;\",\n",
        "                    \"Mostre uma descrição sobre a cidade e tipo de atividas turísticas que se destacam;\",\n",
        "                    \"Dentro de cada período faça uma lista de atividades sendo elas divididas entre passeios e refeições, enumerar de forma sequêncial;\",\n",
        "                    \"Tente incluir mais de uma passei baseado na estimativa de tempo de cada atividade;\",\n",
        "                    \"Incluir ao menos uma refeição por período\"\n",
        "                    \"Conter nas atividades passeio e refeição os campos: nome, descrição, telefone, site, instagram, estimativa de custo, estimativa de tempo de visita e distância e tempo para a próxima atividade, em um formato nome do campo e valor para todos os campos informados inclusive o nome;\",\n",
        "                    \"As dicas devem ser de valor econômico;\",\n",
        "                    \"Dicas de passeios em todos períodos, se for possível mais de um passei por período, basear na estimativa de tempo;\",\n",
        "                    \"Períodos em formato de lista;\"\n",
        "          ]\n",
        "      },\n",
        "      {\n",
        "          \"role\": \"model\",\n",
        "          \"parts\": [\"\"]\n",
        "      }\n",
        "  ])\n",
        "  response.send_message(f\"ROTEIRO_{city}\")\n",
        "  print(response.last.text)\n"
      ],
      "metadata": {
        "colab": {
          "base_uri": "https://localhost:8080/",
          "height": 1000
        },
        "id": "_s691JdsHmzP",
        "outputId": "d0c5b63e-bbb6-46da-8592-5d0edcca9056"
      },
      "execution_count": 22,
      "outputs": [
        {
          "output_type": "stream",
          "name": "stdout",
          "text": [
            "Olá te darei uma diga de roteiro para aproveitar sua viagem...\n",
            "Diga a Cidade que irá visitar: Campos do Jordão\n",
            "Quantos dias: 2\n",
            "```json\n",
            "{\n",
            "  \"cidade\": {\n",
            "    \"nome\": \"Campos do Jordão\",\n",
            "    \"descricao\": \"Campos do Jordão é uma cidade localizada na Serra da Mantiqueira, no estado de São Paulo. É conhecida como a 'Suíça Brasileira' devido à sua arquitetura europeia e clima frio. A cidade oferece diversas atrações turísticas, como passeios de teleférico, parques temáticos e trilhas ecológicas.\"\n",
            "  },\n",
            "  \"atividades_turisticas\": [\n",
            "    \"Passeios de teleférico\",\n",
            "    \"Parques temáticos\",\n",
            "    \"Trilhas ecológicas\",\n",
            "    \"Compras\",\n",
            "    \"Gastronomia\"\n",
            "  ],\n",
            "  \"dias\": [\n",
            "    {\n",
            "      \"periodo\": \"Manhã\",\n",
            "      \"passeios\": [\n",
            "        {\n",
            "          \"nome\": \"Passeio de teleférico\",\n",
            "          \"descricao\": \"O teleférico de Campos do Jordão oferece uma vista panorâmica da cidade e da Serra da Mantiqueira. O passeio dura cerca de 20 minutos.\",\n",
            "          \"telefone\": \"(12) 3663-1577\",\n",
            "          \"site\": \"https://www.telefericocdj.com.br/\",\n",
            "          \"instagram\": \"https://www.instagram.com/telefericocdj/\",\n",
            "          \"custo_estimado\": \"R$ 50,00\",\n",
            "          \"tempo_estimado\": \"20 minutos\",\n",
            "          \"distancia_proxima_atividade\": \"5 minutos a pé\"\n",
            "        }\n",
            "      ],\n",
            "      \"refeicoes\": [\n",
            "        {\n",
            "          \"nome\": \"Café da manhã no Restaurante Baden Baden\",\n",
            "          \"descricao\": \"O Restaurante Baden Baden oferece um café da manhã completo, com opções de pães, frios, frutas e sucos.\",\n",
            "          \"telefone\": \"(12) 3663-4567\",\n",
            "          \"site\": \"https://www.badenbaden.com.br/\",\n",
            "          \"instagram\": \"https://www.instagram.com/badenbadenrestaurante/\",\n",
            "          \"custo_estimado\": \"R$ 30,00\",\n",
            "          \"tempo_estimado\": \"30 minutos\"\n",
            "        }\n",
            "      ]\n",
            "    },\n",
            "    {\n",
            "      \"periodo\": \"Tarde\",\n",
            "      \"passeios\": [\n",
            "        {\n",
            "          \"nome\": \"Visita ao Parque Amantikir\",\n",
            "          \"descricao\": \"O Parque Amantikir é um parque temático que oferece diversas atrações, como tirolesa, arvorismo e trilhas ecológicas. O parque também conta com uma área de lazer com piscinas e restaurantes.\",\n",
            "          \"telefone\": \"(12) 3663-1666\",\n",
            "          \"site\": \"https://www.amantikir.com.br/\",\n",
            "          \"instagram\": \"https://www.instagram.com/amantikir/\",\n",
            "          \"custo_estimado\": \"R$ 100,00\",\n",
            "          \"tempo_estimado\": \"3 horas\",\n",
            "          \"distancia_proxima_atividade\": \"10 minutos de carro\"\n",
            "        }\n",
            "      ],\n",
            "      \"refeicoes\": [\n",
            "        {\n",
            "          \"nome\": \"Almoço no Restaurante Rancho da Picanha\",\n",
            "          \"descricao\": \"O Restaurante Rancho da Picanha é especializado em carnes grelhadas. O restaurante oferece um buffet completo com diversas opções de saladas, pratos quentes e sobremesas.\",\n",
            "          \"telefone\": \"(12) 3663-4455\",\n",
            "          \"site\": \"https://www.ranchodapicanha.com.br/\",\n",
            "          \"instagram\": \"https://www.instagram.com/ranchodapicanha/\",\n",
            "          \"custo_estimado\": \"R$ 50,00\",\n",
            "          \"tempo_estimado\": \"1 hora\"\n",
            "        }\n",
            "      ]\n",
            "    },\n",
            "    {\n",
            "      \"periodo\": \"Noite\",\n",
            "      \"passeios\": [\n",
            "        {\n",
            "          \"nome\": \"Compras na Rua Augusta\",\n",
            "          \"descricao\": \"A Rua Augusta é a principal rua comercial de Campos do Jordão. A rua oferece diversas lojas de roupas, sapatos, acessórios e souvenirs.\",\n",
            "          \"telefone\": null,\n",
            "          \"site\": null,\n",
            "          \"instagram\": null,\n",
            "          \"custo_estimado\": \"Varia de acordo com as compras\",\n",
            "          \"tempo_estimado\": \"2 horas\",\n",
            "          \"distancia_proxima_atividade\": \"5 minutos a pé\"\n",
            "        }\n",
            "      ],\n",
            "      \"refeicoes\": [\n",
            "        {\n",
            "          \"nome\": \"Jantar no Restaurante Villa Gourmet\",\n",
            "          \"descricao\": \"O Restaurante Villa Gourmet oferece um menu variado com opções de pratos brasileiros e internacionais. O restaurante também conta com uma adega com uma ampla seleção de vinhos.\",\n",
            "          \"telefone\": \"(12) 3663-3344\",\n",
            "          \"site\": \"https://www.villagourmet.com.br/\",\n",
            "          \"instagram\": \"https://www.instagram.com/villagourmet/\",\n",
            "          \"custo_estimado\": \"R$ 100,00\",\n",
            "          \"tempo_estimado\": \"2 horas\"\n",
            "        }\n",
            "      ]\n",
            "    },\n",
            "    {\n",
            "      \"periodo\": \"Manhã\",\n",
            "      \"passeios\": [\n",
            "        {\n",
            "          \"nome\": \"Visita ao Parque Estadual Campos do Jordão\",\n",
            "          \"descricao\": \"O Parque Estadual Campos do Jordão é uma área de preservação ambiental que oferece diversas trilhas ecológicas. O parque também conta com uma cachoeira e um mirante com vista para a cidade.\",\n",
            "          \"telefone\": \"(12) 3663-1444\",\n",
            "          \"site\": \"https://www.icmbio.gov.br/pecj/\",\n",
            "          \"instagram\": \"https://www.instagram.com/pecj/\",\n",
            "          \"custo_estimado\": \"Gratuito\",\n",
            "          \"tempo_estimado\": \"2 horas\",\n",
            "          \"distancia_proxima_atividade\": \"15 minutos de carro\"\n",
            "        }\n",
            "      ],\n",
            "      \"refeicoes\": [\n",
            "        {\n",
            "          \"nome\": \"Café da manhã no Café da Montanha\",\n",
            "          \"descricao\": \"O Café da Montanha oferece um café da manhã completo, com opções de pães, frios, frutas e sucos. O café também conta com uma vista panorâmica da cidade.\",\n",
            "          \"telefone\": \"(12) 3663-2233\",\n",
            "          \"site\": \"https://www.cafeda\n"
          ]
        }
      ]
    }
  ]
}